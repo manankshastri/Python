{
 "cells": [
  {
   "cell_type": "code",
   "execution_count": 100,
   "metadata": {},
   "outputs": [],
   "source": [
    "import pandas as pd\n",
    "import numpy as np\n",
    "import matplotlib.pyplot as plt"
   ]
  },
  {
   "cell_type": "code",
   "execution_count": 101,
   "metadata": {},
   "outputs": [],
   "source": [
    "data = pd.read_csv('jj.csv')"
   ]
  },
  {
   "cell_type": "code",
   "execution_count": 102,
   "metadata": {},
   "outputs": [
    {
     "name": "stdout",
     "output_type": "stream",
     "text": [
      "   sr no  training_set(0) / test_set(1)                     image\n",
      "0      1                              1        image set/1/11.jpg\n",
      "1      2                              0       image set/1/112.jpg\n",
      "2      3                              0      image set/1/1112.jpg\n",
      "3      4                              0      image set/2/7676.jpg\n",
      "4      5                              1      image set/2/8787.jpg\n",
      "5      6                              1     image set/3/23243.jpg\n",
      "6      7                              1  image set/3/Untitled.jpg\n"
     ]
    }
   ],
   "source": [
    "print(data)"
   ]
  },
  {
   "cell_type": "code",
   "execution_count": 103,
   "metadata": {},
   "outputs": [],
   "source": [
    "x = data.iloc[:, 1].values\n",
    "y = data.iloc[:, -1].values"
   ]
  },
  {
   "cell_type": "code",
   "execution_count": 104,
   "metadata": {},
   "outputs": [
    {
     "name": "stdout",
     "output_type": "stream",
     "text": [
      "[1 0 0 0 1 1 1]\n",
      "['image set/1/11.jpg' 'image set/1/112.jpg' 'image set/1/1112.jpg'\n",
      " 'image set/2/7676.jpg' 'image set/2/8787.jpg' 'image set/3/23243.jpg'\n",
      " 'image set/3/Untitled.jpg']\n"
     ]
    }
   ],
   "source": [
    "print(x)\n",
    "print(y)"
   ]
  },
  {
   "cell_type": "code",
   "execution_count": 105,
   "metadata": {},
   "outputs": [
    {
     "name": "stdout",
     "output_type": "stream",
     "text": [
      "3\n"
     ]
    }
   ],
   "source": [
    "c = 0\n",
    "for n in x:\n",
    "    if n==0:\n",
    "        c+=1\n",
    "print(c)    "
   ]
  },
  {
   "cell_type": "code",
   "execution_count": 106,
   "metadata": {},
   "outputs": [],
   "source": [
    "c = [n for n in x if n==0]"
   ]
  },
  {
   "cell_type": "code",
   "execution_count": 107,
   "metadata": {},
   "outputs": [
    {
     "name": "stdout",
     "output_type": "stream",
     "text": [
      "[0, 0, 0]\n"
     ]
    }
   ],
   "source": [
    "print(c)"
   ]
  },
  {
   "cell_type": "code",
   "execution_count": 108,
   "metadata": {},
   "outputs": [],
   "source": [
    "rf = data.iloc[:,[1,2]].values"
   ]
  },
  {
   "cell_type": "code",
   "execution_count": 109,
   "metadata": {},
   "outputs": [
    {
     "name": "stdout",
     "output_type": "stream",
     "text": [
      "[[1 'image set/1/11.jpg']\n",
      " [0 'image set/1/112.jpg']\n",
      " [0 'image set/1/1112.jpg']\n",
      " [0 'image set/2/7676.jpg']\n",
      " [1 'image set/2/8787.jpg']\n",
      " [1 'image set/3/23243.jpg']\n",
      " [1 'image set/3/Untitled.jpg']]\n"
     ]
    }
   ],
   "source": [
    "print(rf)"
   ]
  },
  {
   "cell_type": "code",
   "execution_count": 110,
   "metadata": {},
   "outputs": [],
   "source": [
    "hh = rf[:,1]"
   ]
  },
  {
   "cell_type": "code",
   "execution_count": 111,
   "metadata": {},
   "outputs": [
    {
     "name": "stdout",
     "output_type": "stream",
     "text": [
      "['image set/1/11.jpg' 'image set/1/112.jpg' 'image set/1/1112.jpg'\n",
      " 'image set/2/7676.jpg' 'image set/2/8787.jpg' 'image set/3/23243.jpg'\n",
      " 'image set/3/Untitled.jpg']\n"
     ]
    }
   ],
   "source": [
    "print(hh)"
   ]
  },
  {
   "cell_type": "code",
   "execution_count": 112,
   "metadata": {},
   "outputs": [],
   "source": [
    "g = np.array(['E:/j/' + j for j in rf[:,1]])"
   ]
  },
  {
   "cell_type": "code",
   "execution_count": 113,
   "metadata": {},
   "outputs": [
    {
     "name": "stdout",
     "output_type": "stream",
     "text": [
      "['E:/j/image set/1/11.jpg' 'E:/j/image set/1/112.jpg'\n",
      " 'E:/j/image set/1/1112.jpg' 'E:/j/image set/2/7676.jpg'\n",
      " 'E:/j/image set/2/8787.jpg' 'E:/j/image set/3/23243.jpg'\n",
      " 'E:/j/image set/3/Untitled.jpg']\n"
     ]
    }
   ],
   "source": [
    "print(g)"
   ]
  },
  {
   "cell_type": "code",
   "execution_count": 114,
   "metadata": {},
   "outputs": [
    {
     "name": "stdout",
     "output_type": "stream",
     "text": [
      "[[1 'image set/1/11.jpg']\n",
      " [0 'image set/1/112.jpg']\n",
      " [0 'image set/1/1112.jpg']\n",
      " [0 'image set/2/7676.jpg']\n",
      " [1 'image set/2/8787.jpg']\n",
      " [1 'image set/3/23243.jpg']\n",
      " [1 'image set/3/Untitled.jpg']]\n"
     ]
    }
   ],
   "source": [
    "print(rf)"
   ]
  },
  {
   "cell_type": "code",
   "execution_count": 115,
   "metadata": {},
   "outputs": [],
   "source": [
    "rf[:,1] = g[:]"
   ]
  },
  {
   "cell_type": "code",
   "execution_count": 116,
   "metadata": {},
   "outputs": [
    {
     "name": "stdout",
     "output_type": "stream",
     "text": [
      "[[1 'E:/j/image set/1/11.jpg']\n",
      " [0 'E:/j/image set/1/112.jpg']\n",
      " [0 'E:/j/image set/1/1112.jpg']\n",
      " [0 'E:/j/image set/2/7676.jpg']\n",
      " [1 'E:/j/image set/2/8787.jpg']\n",
      " [1 'E:/j/image set/3/23243.jpg']\n",
      " [1 'E:/j/image set/3/Untitled.jpg']]\n"
     ]
    }
   ],
   "source": [
    "print(rf)"
   ]
  },
  {
   "cell_type": "code",
   "execution_count": 117,
   "metadata": {},
   "outputs": [],
   "source": [
    "e1 = np.array([g for g in rf if np.all(g)])"
   ]
  },
  {
   "cell_type": "code",
   "execution_count": 118,
   "metadata": {},
   "outputs": [
    {
     "name": "stdout",
     "output_type": "stream",
     "text": [
      "[[1 'E:/j/image set/1/11.jpg']\n",
      " [1 'E:/j/image set/2/8787.jpg']\n",
      " [1 'E:/j/image set/3/23243.jpg']\n",
      " [1 'E:/j/image set/3/Untitled.jpg']] \n",
      "\n",
      " ['E:/j/image set/1/11.jpg' 'E:/j/image set/2/8787.jpg'\n",
      " 'E:/j/image set/3/23243.jpg' 'E:/j/image set/3/Untitled.jpg']\n"
     ]
    }
   ],
   "source": [
    "print(e1,'\\n\\n',e1[:,1])"
   ]
  },
  {
   "cell_type": "code",
   "execution_count": 119,
   "metadata": {},
   "outputs": [],
   "source": [
    "e2 = np.array([g for g in rf if not np.all(g)])"
   ]
  },
  {
   "cell_type": "code",
   "execution_count": 120,
   "metadata": {},
   "outputs": [
    {
     "name": "stdout",
     "output_type": "stream",
     "text": [
      "[[0 'E:/j/image set/1/112.jpg']\n",
      " [0 'E:/j/image set/1/1112.jpg']\n",
      " [0 'E:/j/image set/2/7676.jpg']]\n"
     ]
    }
   ],
   "source": [
    "print(e2)"
   ]
  },
  {
   "cell_type": "code",
   "execution_count": 127,
   "metadata": {},
   "outputs": [],
   "source": [
    "from shutil import copy2\n",
    "import os, sys"
   ]
  },
  {
   "cell_type": "code",
   "execution_count": 132,
   "metadata": {},
   "outputs": [],
   "source": [
    "for i in e1[:,1]:\n",
    "    if 'image set/1' in i:\n",
    "        #os.mkdir('E:/j/train/1')\n",
    "        copy2(i, 'E:/j/train/1')\n",
    "    if 'image set/2' in i:\n",
    "        #os.mkdir('E:/j/train/2')\n",
    "        copy2(i, 'E:/j/train/2')   \n",
    "    if 'image set/3' in i:\n",
    "        #os.mkdir('E:/j/train/3')\n",
    "        copy2(i, 'E:/j/train/3')        "
   ]
  },
  {
   "cell_type": "code",
   "execution_count": 133,
   "metadata": {},
   "outputs": [],
   "source": [
    "for i in e2[:,1]:\n",
    "    if 'image set/1' in i:\n",
    "        #os.mkdir('E:/j/train/1')\n",
    "        copy2(i, 'E:/j/test/1')\n",
    "    if 'image set/2' in i:\n",
    "        #os.mkdir('E:/j/train/2')\n",
    "        copy2(i, 'E:/j/test/2')   \n",
    "    if 'image set/3' in i:\n",
    "        #os.mkdir('E:/j/train/3')\n",
    "        copy2(i, 'E:/j/test/3')  "
   ]
  },
  {
   "cell_type": "code",
   "execution_count": 134,
   "metadata": {},
   "outputs": [],
   "source": [
    "import glob"
   ]
  },
  {
   "cell_type": "code",
   "execution_count": 157,
   "metadata": {},
   "outputs": [],
   "source": [
    "h = np.array(glob.glob(\"E:\\CUB_200_2011\\images\\*\"))"
   ]
  },
  {
   "cell_type": "code",
   "execution_count": 165,
   "metadata": {},
   "outputs": [
    {
     "name": "stdout",
     "output_type": "stream",
     "text": [
      "E:\\CUB_200_2011\\images\\002.Laysan_Albatross\n"
     ]
    }
   ],
   "source": [
    "print(h[1])"
   ]
  },
  {
   "cell_type": "code",
   "execution_count": 166,
   "metadata": {},
   "outputs": [],
   "source": [
    "l = h[1]   "
   ]
  },
  {
   "cell_type": "code",
   "execution_count": 178,
   "metadata": {},
   "outputs": [
    {
     "name": "stdout",
     "output_type": "stream",
     "text": [
      "E:\\CUB_200_2011\\images\\002.Laysan_Albatross\n"
     ]
    }
   ],
   "source": [
    "print(l)"
   ]
  },
  {
   "cell_type": "code",
   "execution_count": 191,
   "metadata": {},
   "outputs": [
    {
     "data": {
      "text/plain": [
       "'002.Laysan_Albatross'"
      ]
     },
     "execution_count": 191,
     "metadata": {},
     "output_type": "execute_result"
    }
   ],
   "source": [
    "l[23:]"
   ]
  },
  {
   "cell_type": "code",
   "execution_count": 192,
   "metadata": {},
   "outputs": [],
   "source": [
    "mm = [u[23:] for u in h]"
   ]
  },
  {
   "cell_type": "code",
   "execution_count": 193,
   "metadata": {},
   "outputs": [
    {
     "name": "stdout",
     "output_type": "stream",
     "text": [
      "['001.Black_footed_Albatross', '002.Laysan_Albatross', '003.Sooty_Albatross', '004.Groove_billed_Ani', '005.Crested_Auklet', '006.Least_Auklet', '007.Parakeet_Auklet', '008.Rhinoceros_Auklet', '009.Brewer_Blackbird', '010.Red_winged_Blackbird', '011.Rusty_Blackbird', '012.Yellow_headed_Blackbird', '013.Bobolink', '014.Indigo_Bunting', '015.Lazuli_Bunting', '016.Painted_Bunting', '017.Cardinal', '018.Spotted_Catbird', '019.Gray_Catbird', '020.Yellow_breasted_Chat', '021.Eastern_Towhee', '022.Chuck_will_Widow', '023.Brandt_Cormorant', '024.Red_faced_Cormorant', '025.Pelagic_Cormorant', '026.Bronzed_Cowbird', '027.Shiny_Cowbird', '028.Brown_Creeper', '029.American_Crow', '030.Fish_Crow', '031.Black_billed_Cuckoo', '032.Mangrove_Cuckoo', '033.Yellow_billed_Cuckoo', '034.Gray_crowned_Rosy_Finch', '035.Purple_Finch', '036.Northern_Flicker', '037.Acadian_Flycatcher', '038.Great_Crested_Flycatcher', '039.Least_Flycatcher', '040.Olive_sided_Flycatcher', '041.Scissor_tailed_Flycatcher', '042.Vermilion_Flycatcher', '043.Yellow_bellied_Flycatcher', '044.Frigatebird', '045.Northern_Fulmar', '046.Gadwall', '047.American_Goldfinch', '048.European_Goldfinch', '049.Boat_tailed_Grackle', '050.Eared_Grebe', '051.Horned_Grebe', '052.Pied_billed_Grebe', '053.Western_Grebe', '054.Blue_Grosbeak', '055.Evening_Grosbeak', '056.Pine_Grosbeak', '057.Rose_breasted_Grosbeak', '058.Pigeon_Guillemot', '059.California_Gull', '060.Glaucous_winged_Gull', '061.Heermann_Gull', '062.Herring_Gull', '063.Ivory_Gull', '064.Ring_billed_Gull', '065.Slaty_backed_Gull', '066.Western_Gull', '067.Anna_Hummingbird', '068.Ruby_throated_Hummingbird', '069.Rufous_Hummingbird', '070.Green_Violetear', '071.Long_tailed_Jaeger', '072.Pomarine_Jaeger', '073.Blue_Jay', '074.Florida_Jay', '075.Green_Jay', '076.Dark_eyed_Junco', '077.Tropical_Kingbird', '078.Gray_Kingbird', '079.Belted_Kingfisher', '080.Green_Kingfisher', '081.Pied_Kingfisher', '082.Ringed_Kingfisher', '083.White_breasted_Kingfisher', '084.Red_legged_Kittiwake', '085.Horned_Lark', '086.Pacific_Loon', '087.Mallard', '088.Western_Meadowlark', '089.Hooded_Merganser', '090.Red_breasted_Merganser', '091.Mockingbird', '092.Nighthawk', '093.Clark_Nutcracker', '094.White_breasted_Nuthatch', '095.Baltimore_Oriole', '096.Hooded_Oriole', '097.Orchard_Oriole', '098.Scott_Oriole', '099.Ovenbird', '100.Brown_Pelican', '101.White_Pelican', '102.Western_Wood_Pewee', '103.Sayornis', '104.American_Pipit', '105.Whip_poor_Will', '106.Horned_Puffin', '107.Common_Raven', '108.White_necked_Raven', '109.American_Redstart', '110.Geococcyx', '111.Loggerhead_Shrike', '112.Great_Grey_Shrike', '113.Baird_Sparrow', '114.Black_throated_Sparrow', '115.Brewer_Sparrow', '116.Chipping_Sparrow', '117.Clay_colored_Sparrow', '118.House_Sparrow', '119.Field_Sparrow', '120.Fox_Sparrow', '121.Grasshopper_Sparrow', '122.Harris_Sparrow', '123.Henslow_Sparrow', '124.Le_Conte_Sparrow', '125.Lincoln_Sparrow', '126.Nelson_Sharp_tailed_Sparrow', '127.Savannah_Sparrow', '128.Seaside_Sparrow', '129.Song_Sparrow', '130.Tree_Sparrow', '131.Vesper_Sparrow', '132.White_crowned_Sparrow', '133.White_throated_Sparrow', '134.Cape_Glossy_Starling', '135.Bank_Swallow', '136.Barn_Swallow', '137.Cliff_Swallow', '138.Tree_Swallow', '139.Scarlet_Tanager', '140.Summer_Tanager', '141.Artic_Tern', '142.Black_Tern', '143.Caspian_Tern', '144.Common_Tern', '145.Elegant_Tern', '146.Forsters_Tern', '147.Least_Tern', '148.Green_tailed_Towhee', '149.Brown_Thrasher', '150.Sage_Thrasher', '151.Black_capped_Vireo', '152.Blue_headed_Vireo', '153.Philadelphia_Vireo', '154.Red_eyed_Vireo', '155.Warbling_Vireo', '156.White_eyed_Vireo', '157.Yellow_throated_Vireo', '158.Bay_breasted_Warbler', '159.Black_and_white_Warbler', '160.Black_throated_Blue_Warbler', '161.Blue_winged_Warbler', '162.Canada_Warbler', '163.Cape_May_Warbler', '164.Cerulean_Warbler', '165.Chestnut_sided_Warbler', '166.Golden_winged_Warbler', '167.Hooded_Warbler', '168.Kentucky_Warbler', '169.Magnolia_Warbler', '170.Mourning_Warbler', '171.Myrtle_Warbler', '172.Nashville_Warbler', '173.Orange_crowned_Warbler', '174.Palm_Warbler', '175.Pine_Warbler', '176.Prairie_Warbler', '177.Prothonotary_Warbler', '178.Swainson_Warbler', '179.Tennessee_Warbler', '180.Wilson_Warbler', '181.Worm_eating_Warbler', '182.Yellow_Warbler', '183.Northern_Waterthrush', '184.Louisiana_Waterthrush', '185.Bohemian_Waxwing', '186.Cedar_Waxwing', '187.American_Three_toed_Woodpecker', '188.Pileated_Woodpecker', '189.Red_bellied_Woodpecker', '190.Red_cockaded_Woodpecker', '191.Red_headed_Woodpecker', '192.Downy_Woodpecker', '193.Bewick_Wren', '194.Cactus_Wren', '195.Carolina_Wren', '196.House_Wren', '197.Marsh_Wren', '198.Rock_Wren', '199.Winter_Wren', '200.Common_Yellowthroat']\n"
     ]
    }
   ],
   "source": [
    "print(mm)"
   ]
  },
  {
   "cell_type": "code",
   "execution_count": 194,
   "metadata": {},
   "outputs": [
    {
     "name": "stdout",
     "output_type": "stream",
     "text": [
      "200\n"
     ]
    }
   ],
   "source": [
    "print(len(mm))"
   ]
  },
  {
   "cell_type": "code",
   "execution_count": 195,
   "metadata": {},
   "outputs": [],
   "source": [
    "vgg_dir = 'E:\\\\CUB_200_2011\\\\train\\\\'\n",
    "for i in mm:\n",
    "    os.mkdir(vgg_dir + i)"
   ]
  },
  {
   "cell_type": "code",
   "execution_count": 196,
   "metadata": {},
   "outputs": [],
   "source": [
    "vgg_dir = 'E:\\\\CUB_200_2011\\\\test\\\\'\n",
    "for i in mm:\n",
    "    os.mkdir(vgg_dir + i)"
   ]
  },
  {
   "cell_type": "code",
   "execution_count": 198,
   "metadata": {},
   "outputs": [],
   "source": [
    "d = pd.read_csv('E:\\CUB_200_2011\\image123.csv')"
   ]
  },
  {
   "cell_type": "code",
   "execution_count": 199,
   "metadata": {},
   "outputs": [
    {
     "name": "stdout",
     "output_type": "stream",
     "text": [
      "       sr no  test-set(0)/ training-set(1)  \\\n",
      "0          1                             0   \n",
      "1          2                             1   \n",
      "2          3                             0   \n",
      "3          4                             1   \n",
      "4          5                             1   \n",
      "5          6                             0   \n",
      "6          7                             1   \n",
      "7          8                             1   \n",
      "8          9                             1   \n",
      "9         10                             0   \n",
      "10        11                             1   \n",
      "11        12                             0   \n",
      "12        13                             0   \n",
      "13        14                             0   \n",
      "14        15                             1   \n",
      "15        16                             0   \n",
      "16        17                             0   \n",
      "17        18                             1   \n",
      "18        19                             0   \n",
      "19        20                             1   \n",
      "20        21                             1   \n",
      "21        22                             0   \n",
      "22        23                             1   \n",
      "23        24                             0   \n",
      "24        25                             0   \n",
      "25        26                             0   \n",
      "26        27                             0   \n",
      "27        28                             0   \n",
      "28        29                             0   \n",
      "29        30                             1   \n",
      "...      ...                           ...   \n",
      "11758  11759                             1   \n",
      "11759  11760                             1   \n",
      "11760  11761                             0   \n",
      "11761  11762                             1   \n",
      "11762  11763                             1   \n",
      "11763  11764                             0   \n",
      "11764  11765                             1   \n",
      "11765  11766                             0   \n",
      "11766  11767                             1   \n",
      "11767  11768                             0   \n",
      "11768  11769                             0   \n",
      "11769  11770                             1   \n",
      "11770  11771                             0   \n",
      "11771  11772                             1   \n",
      "11772  11773                             0   \n",
      "11773  11774                             1   \n",
      "11774  11775                             0   \n",
      "11775  11776                             1   \n",
      "11776  11777                             0   \n",
      "11777  11778                             1   \n",
      "11778  11779                             0   \n",
      "11779  11780                             0   \n",
      "11780  11781                             1   \n",
      "11781  11782                             1   \n",
      "11782  11783                             0   \n",
      "11783  11784                             1   \n",
      "11784  11785                             0   \n",
      "11785  11786                             0   \n",
      "11786  11787                             1   \n",
      "11787  11788                             0   \n",
      "\n",
      "                                               image set  \n",
      "0      001.Black_footed_Albatross/Black_Footed_Albatr...  \n",
      "1      001.Black_footed_Albatross/Black_Footed_Albatr...  \n",
      "2      001.Black_footed_Albatross/Black_Footed_Albatr...  \n",
      "3      001.Black_footed_Albatross/Black_Footed_Albatr...  \n",
      "4      001.Black_footed_Albatross/Black_Footed_Albatr...  \n",
      "5      001.Black_footed_Albatross/Black_Footed_Albatr...  \n",
      "6      001.Black_footed_Albatross/Black_Footed_Albatr...  \n",
      "7      001.Black_footed_Albatross/Black_Footed_Albatr...  \n",
      "8      001.Black_footed_Albatross/Black_Footed_Albatr...  \n",
      "9      001.Black_footed_Albatross/Black_Footed_Albatr...  \n",
      "10     001.Black_footed_Albatross/Black_Footed_Albatr...  \n",
      "11     001.Black_footed_Albatross/Black_Footed_Albatr...  \n",
      "12     001.Black_footed_Albatross/Black_Footed_Albatr...  \n",
      "13     001.Black_footed_Albatross/Black_Footed_Albatr...  \n",
      "14     001.Black_footed_Albatross/Black_Footed_Albatr...  \n",
      "15     001.Black_footed_Albatross/Black_Footed_Albatr...  \n",
      "16     001.Black_footed_Albatross/Black_Footed_Albatr...  \n",
      "17     001.Black_footed_Albatross/Black_Footed_Albatr...  \n",
      "18     001.Black_footed_Albatross/Black_Footed_Albatr...  \n",
      "19     001.Black_footed_Albatross/Black_Footed_Albatr...  \n",
      "20     001.Black_footed_Albatross/Black_Footed_Albatr...  \n",
      "21     001.Black_footed_Albatross/Black_Footed_Albatr...  \n",
      "22     001.Black_footed_Albatross/Black_Footed_Albatr...  \n",
      "23     001.Black_footed_Albatross/Black_Footed_Albatr...  \n",
      "24     001.Black_footed_Albatross/Black_Footed_Albatr...  \n",
      "25     001.Black_footed_Albatross/Black_Footed_Albatr...  \n",
      "26     001.Black_footed_Albatross/Black_Footed_Albatr...  \n",
      "27     001.Black_footed_Albatross/Black_Footed_Albatr...  \n",
      "28     001.Black_footed_Albatross/Black_Footed_Albatr...  \n",
      "29     001.Black_footed_Albatross/Black_Footed_Albatr...  \n",
      "...                                                  ...  \n",
      "11758  200.Common_Yellowthroat/Common_Yellowthroat_00...  \n",
      "11759  200.Common_Yellowthroat/Common_Yellowthroat_01...  \n",
      "11760  200.Common_Yellowthroat/Common_Yellowthroat_00...  \n",
      "11761  200.Common_Yellowthroat/Common_Yellowthroat_00...  \n",
      "11762  200.Common_Yellowthroat/Common_Yellowthroat_00...  \n",
      "11763  200.Common_Yellowthroat/Common_Yellowthroat_00...  \n",
      "11764  200.Common_Yellowthroat/Common_Yellowthroat_01...  \n",
      "11765  200.Common_Yellowthroat/Common_Yellowthroat_00...  \n",
      "11766  200.Common_Yellowthroat/Common_Yellowthroat_00...  \n",
      "11767  200.Common_Yellowthroat/Common_Yellowthroat_00...  \n",
      "11768  200.Common_Yellowthroat/Common_Yellowthroat_00...  \n",
      "11769  200.Common_Yellowthroat/Common_Yellowthroat_00...  \n",
      "11770  200.Common_Yellowthroat/Common_Yellowthroat_00...  \n",
      "11771  200.Common_Yellowthroat/Common_Yellowthroat_00...  \n",
      "11772  200.Common_Yellowthroat/Common_Yellowthroat_00...  \n",
      "11773  200.Common_Yellowthroat/Common_Yellowthroat_00...  \n",
      "11774  200.Common_Yellowthroat/Common_Yellowthroat_00...  \n",
      "11775  200.Common_Yellowthroat/Common_Yellowthroat_00...  \n",
      "11776  200.Common_Yellowthroat/Common_Yellowthroat_00...  \n",
      "11777  200.Common_Yellowthroat/Common_Yellowthroat_00...  \n",
      "11778  200.Common_Yellowthroat/Common_Yellowthroat_00...  \n",
      "11779  200.Common_Yellowthroat/Common_Yellowthroat_00...  \n",
      "11780  200.Common_Yellowthroat/Common_Yellowthroat_00...  \n",
      "11781  200.Common_Yellowthroat/Common_Yellowthroat_00...  \n",
      "11782  200.Common_Yellowthroat/Common_Yellowthroat_00...  \n",
      "11783  200.Common_Yellowthroat/Common_Yellowthroat_00...  \n",
      "11784  200.Common_Yellowthroat/Common_Yellowthroat_00...  \n",
      "11785  200.Common_Yellowthroat/Common_Yellowthroat_00...  \n",
      "11786  200.Common_Yellowthroat/Common_Yellowthroat_00...  \n",
      "11787  200.Common_Yellowthroat/Common_Yellowthroat_00...  \n",
      "\n",
      "[11788 rows x 3 columns]\n"
     ]
    }
   ],
   "source": [
    "print(d)"
   ]
  },
  {
   "cell_type": "code",
   "execution_count": 202,
   "metadata": {},
   "outputs": [],
   "source": [
    "rf = d.iloc[:,[1,2]].values"
   ]
  },
  {
   "cell_type": "code",
   "execution_count": 203,
   "metadata": {},
   "outputs": [
    {
     "name": "stdout",
     "output_type": "stream",
     "text": [
      "[[0 '001.Black_footed_Albatross/Black_Footed_Albatross_0046_18.jpg']\n",
      " [1 '001.Black_footed_Albatross/Black_Footed_Albatross_0009_34.jpg']\n",
      " [0 '001.Black_footed_Albatross/Black_Footed_Albatross_0002_55.jpg']\n",
      " ..., \n",
      " [0 '200.Common_Yellowthroat/Common_Yellowthroat_0008_190703.jpg']\n",
      " [1 '200.Common_Yellowthroat/Common_Yellowthroat_0049_190708.jpg']\n",
      " [0 '200.Common_Yellowthroat/Common_Yellowthroat_0055_190967.jpg']]\n"
     ]
    }
   ],
   "source": [
    "print(rf)"
   ]
  },
  {
   "cell_type": "code",
   "execution_count": 204,
   "metadata": {},
   "outputs": [],
   "source": [
    "hh = rf[:,1]"
   ]
  },
  {
   "cell_type": "code",
   "execution_count": 205,
   "metadata": {},
   "outputs": [
    {
     "data": {
      "text/plain": [
       "array(['001.Black_footed_Albatross/Black_Footed_Albatross_0046_18.jpg',\n",
       "       '001.Black_footed_Albatross/Black_Footed_Albatross_0009_34.jpg',\n",
       "       '001.Black_footed_Albatross/Black_Footed_Albatross_0002_55.jpg',\n",
       "       ..., '200.Common_Yellowthroat/Common_Yellowthroat_0008_190703.jpg',\n",
       "       '200.Common_Yellowthroat/Common_Yellowthroat_0049_190708.jpg',\n",
       "       '200.Common_Yellowthroat/Common_Yellowthroat_0055_190967.jpg'], dtype=object)"
      ]
     },
     "execution_count": 205,
     "metadata": {},
     "output_type": "execute_result"
    }
   ],
   "source": [
    "hh"
   ]
  },
  {
   "cell_type": "code",
   "execution_count": 206,
   "metadata": {},
   "outputs": [],
   "source": [
    "g = np.array(['E:/CUB_200_2011/images/' + j for j in rf[:,1]])"
   ]
  },
  {
   "cell_type": "code",
   "execution_count": 207,
   "metadata": {},
   "outputs": [
    {
     "name": "stdout",
     "output_type": "stream",
     "text": [
      "[ 'E:/CUB_200_2011/images/001.Black_footed_Albatross/Black_Footed_Albatross_0046_18.jpg'\n",
      " 'E:/CUB_200_2011/images/001.Black_footed_Albatross/Black_Footed_Albatross_0009_34.jpg'\n",
      " 'E:/CUB_200_2011/images/001.Black_footed_Albatross/Black_Footed_Albatross_0002_55.jpg'\n",
      " ...,\n",
      " 'E:/CUB_200_2011/images/200.Common_Yellowthroat/Common_Yellowthroat_0008_190703.jpg'\n",
      " 'E:/CUB_200_2011/images/200.Common_Yellowthroat/Common_Yellowthroat_0049_190708.jpg'\n",
      " 'E:/CUB_200_2011/images/200.Common_Yellowthroat/Common_Yellowthroat_0055_190967.jpg']\n"
     ]
    }
   ],
   "source": [
    "print(g)"
   ]
  },
  {
   "cell_type": "code",
   "execution_count": 208,
   "metadata": {},
   "outputs": [],
   "source": [
    "rf[:,1] = g[:]"
   ]
  },
  {
   "cell_type": "code",
   "execution_count": 209,
   "metadata": {},
   "outputs": [
    {
     "name": "stdout",
     "output_type": "stream",
     "text": [
      "[[0\n",
      "  'E:/CUB_200_2011/images/001.Black_footed_Albatross/Black_Footed_Albatross_0046_18.jpg']\n",
      " [1\n",
      "  'E:/CUB_200_2011/images/001.Black_footed_Albatross/Black_Footed_Albatross_0009_34.jpg']\n",
      " [0\n",
      "  'E:/CUB_200_2011/images/001.Black_footed_Albatross/Black_Footed_Albatross_0002_55.jpg']\n",
      " ..., \n",
      " [0\n",
      "  'E:/CUB_200_2011/images/200.Common_Yellowthroat/Common_Yellowthroat_0008_190703.jpg']\n",
      " [1\n",
      "  'E:/CUB_200_2011/images/200.Common_Yellowthroat/Common_Yellowthroat_0049_190708.jpg']\n",
      " [0\n",
      "  'E:/CUB_200_2011/images/200.Common_Yellowthroat/Common_Yellowthroat_0055_190967.jpg']]\n"
     ]
    }
   ],
   "source": [
    "print(rf)"
   ]
  },
  {
   "cell_type": "code",
   "execution_count": 210,
   "metadata": {},
   "outputs": [],
   "source": [
    "e1 = np.array([g for g in rf if np.all(g)])"
   ]
  },
  {
   "cell_type": "code",
   "execution_count": 211,
   "metadata": {},
   "outputs": [],
   "source": [
    "e2 = np.array([g for g in rf if not np.all(g)])"
   ]
  },
  {
   "cell_type": "code",
   "execution_count": 212,
   "metadata": {},
   "outputs": [
    {
     "data": {
      "text/plain": [
       "array([[1,\n",
       "        'E:/CUB_200_2011/images/001.Black_footed_Albatross/Black_Footed_Albatross_0009_34.jpg'],\n",
       "       [1,\n",
       "        'E:/CUB_200_2011/images/001.Black_footed_Albatross/Black_Footed_Albatross_0074_59.jpg'],\n",
       "       [1,\n",
       "        'E:/CUB_200_2011/images/001.Black_footed_Albatross/Black_Footed_Albatross_0014_89.jpg'],\n",
       "       ..., \n",
       "       [1,\n",
       "        'E:/CUB_200_2011/images/200.Common_Yellowthroat/Common_Yellowthroat_0094_190690.jpg'],\n",
       "       [1,\n",
       "        'E:/CUB_200_2011/images/200.Common_Yellowthroat/Common_Yellowthroat_0037_190698.jpg'],\n",
       "       [1,\n",
       "        'E:/CUB_200_2011/images/200.Common_Yellowthroat/Common_Yellowthroat_0049_190708.jpg']], dtype=object)"
      ]
     },
     "execution_count": 212,
     "metadata": {},
     "output_type": "execute_result"
    }
   ],
   "source": [
    "e1"
   ]
  },
  {
   "cell_type": "code",
   "execution_count": 213,
   "metadata": {},
   "outputs": [
    {
     "data": {
      "text/plain": [
       "array([[0,\n",
       "        'E:/CUB_200_2011/images/001.Black_footed_Albatross/Black_Footed_Albatross_0046_18.jpg'],\n",
       "       [0,\n",
       "        'E:/CUB_200_2011/images/001.Black_footed_Albatross/Black_Footed_Albatross_0002_55.jpg'],\n",
       "       [0,\n",
       "        'E:/CUB_200_2011/images/001.Black_footed_Albatross/Black_Footed_Albatross_0085_92.jpg'],\n",
       "       ..., \n",
       "       [0,\n",
       "        'E:/CUB_200_2011/images/200.Common_Yellowthroat/Common_Yellowthroat_0058_190958.jpg'],\n",
       "       [0,\n",
       "        'E:/CUB_200_2011/images/200.Common_Yellowthroat/Common_Yellowthroat_0008_190703.jpg'],\n",
       "       [0,\n",
       "        'E:/CUB_200_2011/images/200.Common_Yellowthroat/Common_Yellowthroat_0055_190967.jpg']], dtype=object)"
      ]
     },
     "execution_count": 213,
     "metadata": {},
     "output_type": "execute_result"
    }
   ],
   "source": [
    "e2"
   ]
  },
  {
   "cell_type": "code",
   "execution_count": 216,
   "metadata": {},
   "outputs": [],
   "source": [
    "for p in range(200):\n",
    "    k = mm[p]\n",
    "    for i in e1[:,1]:\n",
    "        if 'images/' + k in i:\n",
    "            copy2(i, 'E:/CUB_200_2011/train/'+k)    "
   ]
  },
  {
   "cell_type": "code",
   "execution_count": 217,
   "metadata": {},
   "outputs": [],
   "source": [
    "for p in range(200):\n",
    "    k = mm[p]\n",
    "    for i in e2[:,1]:\n",
    "        if 'images/' + k in i:\n",
    "            copy2(i, 'E:/CUB_200_2011/test/'+k)    "
   ]
  },
  {
   "cell_type": "code",
   "execution_count": null,
   "metadata": {},
   "outputs": [],
   "source": []
  }
 ],
 "metadata": {
  "kernelspec": {
   "display_name": "Python [default]",
   "language": "python",
   "name": "python3"
  },
  "language_info": {
   "codemirror_mode": {
    "name": "ipython",
    "version": 3
   },
   "file_extension": ".py",
   "mimetype": "text/x-python",
   "name": "python",
   "nbconvert_exporter": "python",
   "pygments_lexer": "ipython3",
   "version": "3.6.6"
  }
 },
 "nbformat": 4,
 "nbformat_minor": 2
}
